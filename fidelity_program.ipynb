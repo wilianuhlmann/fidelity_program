{
 "cells": [
  {
   "cell_type": "markdown",
   "id": "a793c942-8f38-4f5f-9384-f2b82ab41008",
   "metadata": {},
   "source": [
    "## 1.0. Descrição dos dados"
   ]
  },
  {
   "cell_type": "markdown",
   "id": "7c25c1ee-d2d6-4228-9d5b-e3fc009daced",
   "metadata": {},
   "source": [
    "## 2.0. Feature Engenering"
   ]
  },
  {
   "cell_type": "markdown",
   "id": "46821c62-a4b9-4d6c-9a5a-3d7d1d740a01",
   "metadata": {},
   "source": [
    "## 3.0. Filtragem de variaveis"
   ]
  },
  {
   "cell_type": "markdown",
   "id": "10630013-a023-4d36-afdf-1c2754c11954",
   "metadata": {},
   "source": [
    "## 4.0. EDA(Exploratory Data Analysis)"
   ]
  },
  {
   "cell_type": "markdown",
   "id": "ea5d8a58-a775-487b-989e-527ff377d3cc",
   "metadata": {},
   "source": [
    "## 5.0. Data preparation\n",
    "\n"
   ]
  },
  {
   "cell_type": "markdown",
   "id": "2b6ff85f-30f3-4f3d-afb9-c1cd4756dc2f",
   "metadata": {},
   "source": [
    "## 6.0. Feature Selection"
   ]
  },
  {
   "cell_type": "markdown",
   "id": "611692b1-a78b-40df-9f11-59f1c2c12e0e",
   "metadata": {},
   "source": [
    "## 7.0. Hyperparameter Fine Tuning"
   ]
  },
  {
   "cell_type": "markdown",
   "id": "114d9acc-36c5-4d5f-b1de-be4c478b1c0d",
   "metadata": {},
   "source": [
    "## 8.0. Model Training"
   ]
  },
  {
   "cell_type": "markdown",
   "id": "52176c54-59fa-4b7c-858d-f83b0e5b6ead",
   "metadata": {},
   "source": [
    "## 9.0. Cluster Analysis"
   ]
  },
  {
   "cell_type": "markdown",
   "id": "7db421fc-8d07-440d-9fe4-b09acb285afb",
   "metadata": {},
   "source": [
    "## 10.0. Deploy to Production"
   ]
  },
  {
   "cell_type": "code",
   "execution_count": null,
   "id": "4e64b759-6c1c-4a07-8a32-29a230578829",
   "metadata": {},
   "outputs": [],
   "source": []
  }
 ],
 "metadata": {
  "kernelspec": {
   "display_name": "default:Python",
   "language": "python",
   "name": "conda-env-default-py"
  },
  "language_info": {
   "codemirror_mode": {
    "name": "ipython",
    "version": 3
   },
   "file_extension": ".py",
   "mimetype": "text/x-python",
   "name": "python",
   "nbconvert_exporter": "python",
   "pygments_lexer": "ipython3",
   "version": "3.9.7"
  }
 },
 "nbformat": 4,
 "nbformat_minor": 5
}
